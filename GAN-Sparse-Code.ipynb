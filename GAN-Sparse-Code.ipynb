{
 "cells": [
  {
   "cell_type": "code",
   "execution_count": 16,
   "metadata": {
    "collapsed": true
   },
   "outputs": [
    {
     "name": "stdout",
     "output_type": "stream",
     "text": [
      "(192, 64)\n",
      "\n"
     ]
    }
   ],
   "source": [
    "import numpy as np\n",
    "import PIL\n",
    "import sys, os\n",
    "from sklearn.decomposition import sparse_encode\n",
    "from sklearn.feature_extraction.image import extract_patches_2d\n",
    "\n",
    "IMAGE_SIZE = (32,32,3)\n",
    "IMAGE_FILE = \"cifar-10/test_batch\"\n",
    "\n",
    "def unpickle(file):\n",
    "    import pickle\n",
    "    with open(file, 'rb') as fo:\n",
    "        dict = pickle.load(fo, encoding='bytes')\n",
    "    return dict\n",
    "\n",
    "def image2patches():\n",
    "\n",
    "\n",
    "def patches2image():\n",
    "\n",
    "def get_cifar_data():\n",
    "    dict = unpickle(IMAGE_FILE)\n",
    "    return dict[b'data']\n",
    "\n",
    "def generate_sparse_codes():\n",
    "    images = get_cifar_data()[0:100]\n",
    "    file = open(\"dictionary\",\"rb\")\n",
    "    dict = np.load(file)\n",
    "    file.close()\n",
    "    sparse_encode(images,dict,)\n",
    "    print()\n",
    "\n",
    "\n",
    "\n",
    "generate_sparse_codes()\n",
    "\n",
    "\n",
    "\n"
   ]
  }
 ],
 "metadata": {
  "kernelspec": {
   "display_name": "Python 3",
   "language": "python",
   "name": "python3"
  },
  "language_info": {
   "codemirror_mode": {
    "name": "ipython",
    "version": 2
   },
   "file_extension": ".py",
   "mimetype": "text/x-python",
   "name": "python",
   "nbconvert_exporter": "python",
   "pygments_lexer": "ipython2",
   "version": "2.7.6"
  }
 },
 "nbformat": 4,
 "nbformat_minor": 0
}